{
 "cells": [
  {
   "cell_type": "code",
   "execution_count": 1,
   "metadata": {},
   "outputs": [],
   "source": [
    "# 모듈 호출\n",
    "import tkinter as tk # Tkinter\n",
    "from PIL import ImageTk, Image # Pillow\n",
    "import cv2 as cv # OpenCV\n",
    "import os"
   ]
  },
  {
   "cell_type": "code",
   "execution_count": 2,
   "metadata": {},
   "outputs": [],
   "source": [
    "# GUI 설계\n",
    "win = tk.Tk() # 인스턴스 생성\n",
    "\n",
    "win.title(\"AniWatch\") # 제목 표시줄 추가\n",
    "win.geometry(\"920x640+50+50\") # 지오메트리: 너비x높이+x좌표+y좌표\n",
    "win.resizable(False, False) # x축, y축 크기 조정 비활성화\n",
    "\n",
    "win.mainloop() #GUI 시작"
   ]
  },
  {
   "cell_type": "code",
   "execution_count": 3,
   "metadata": {},
   "outputs": [],
   "source": [
    "# GUI 설계\n",
    "win = tk.Tk() # 인스턴스 생성\n",
    "\n",
    "win.title(\"AniWatch\") # 제목 표시줄 추가\n",
    "win.geometry(\"920x640+50+50\") # 지오메트리: 너비x높이+x좌표+y좌표\n",
    "win.resizable(False, False) # x축, y축 크기 조정 비활성화\n",
    "\n",
    "# 라벨 추가\n",
    "lbl = tk.Label(win, text=\"Tkinter와 OpenCV를 이용한 GUI 프로그래밍\")\n",
    "lbl.grid(row=0, column=0) # 라벨 행, 열 배치\n",
    "\n",
    "win.mainloop() #GUI 시작"
   ]
  },
  {
   "cell_type": "code",
   "execution_count": 4,
   "metadata": {},
   "outputs": [],
   "source": [
    "# GUI 설계\n",
    "win = tk.Tk() # 인스턴스 생성\n",
    "\n",
    "win.title(\"AniWatch\") # 제목 표시줄 추가\n",
    "win.geometry(\"920x640+50+50\") # 지오메트리: 너비x높이+x좌표+y좌표\n",
    "win.resizable(False, False) # x축, y축 크기 조정 비활성화\n",
    "\n",
    "# 라벨 추가\n",
    "lbl = tk.Label(win, text=\"Tkinter와 OpenCV를 이용한 GUI 프로그래밍\")\n",
    "lbl.grid(row=0, column=0) # 라벨 행, 열 배치\n",
    "\n",
    "# 프레임 추가\n",
    "frm = tk.Frame(win, bg=\"white\", width=720, height=480) # 프레임 너비, 높이 설정\n",
    "frm.grid(row=1, column=0) # 격자 행, 열 배치\n",
    "\n",
    "win.mainloop() #GUI 시작"
   ]
  },
  {
   "cell_type": "code",
   "execution_count": 5,
   "metadata": {},
   "outputs": [],
   "source": [
    "# GUI 설계\n",
    "win = tk.Tk() # 인스턴스 생성\n",
    "\n",
    "win.title(\"AniWatch\") # 제목 표시줄 추가\n",
    "win.geometry(\"920x640+50+50\") # 지오메트리: 너비x높이+x좌표+y좌표\n",
    "win.resizable(False, False) # x축, y축 크기 조정 비활성화\n",
    "\n",
    "# 라벨 추가\n",
    "lbl = tk.Label(win, text=\"Tkinter와 OpenCV를 이용한 GUI 프로그래밍\")\n",
    "lbl.grid(row=0, column=0) # 라벨 행, 열 배치\n",
    "\n",
    "# 프레임 추가\n",
    "frm = tk.Frame(win, bg=\"white\", width=720, height=480) # 프레임 너비, 높이 설정\n",
    "frm.grid(row=1, column=0) # 프레임 행, 열 배치\n",
    "\n",
    "# 라벨1 추가\n",
    "lbl1 = tk.Label(frm)\n",
    "lbl1.grid()\n",
    "\n",
    "win.mainloop() #GUI 시작"
   ]
  },
  {
   "cell_type": "code",
   "execution_count": 6,
   "metadata": {},
   "outputs": [
    {
     "name": "stdout",
     "output_type": "stream",
     "text": [
      "프레임을 수신할 수 없습니다(스트림 끝?). 종료 중 ...\n"
     ]
    }
   ],
   "source": [
    "os.chdir('D:/GEODATA') # 현재 작업 디렉토리 변경\n",
    "cap = cv.VideoCapture('otter.avi') # VideoCapture 객체 정의\n",
    "\n",
    "while cap.isOpened(): # cap 정상동작 확인\n",
    "    ret, frame = cap.read() # 프레임이 올바르게 읽히면 ret은 True\n",
    "    if not ret:\n",
    "        print(\"프레임을 수신할 수 없습니다(스트림 끝?). 종료 중 ...\")\n",
    "        break\n",
    "    frame = cv.cvtColor(frame, cv.COLOR_BGR2GRAY)\n",
    "    cv.imshow('Otter', frame)\n",
    "    if cv.waitKey(42) == ord('q'):\n",
    "        break\n",
    "\n",
    "# 작업 완료 후 해제\n",
    "cap.release()\n",
    "cv.destroyAllWindows()"
   ]
  },
  {
   "cell_type": "code",
   "execution_count": 7,
   "metadata": {},
   "outputs": [],
   "source": [
    "# GUI 설계\n",
    "win = tk.Tk() # 인스턴스 생성\n",
    "\n",
    "win.title(\"AniWatch\") # 제목 표시줄 추가\n",
    "win.geometry(\"920x640+50+50\") # 지오메트리: 너비x높이+x좌표+y좌표\n",
    "win.resizable(False, False) # x축, y축 크기 조정 비활성화\n",
    "\n",
    "# 라벨 추가\n",
    "lbl = tk.Label(win, text=\"Tkinter와 OpenCV를 이용한 GUI 프로그래밍\")\n",
    "lbl.grid(row=0, column=0) # 라벨 행, 열 배치\n",
    "\n",
    "# 프레임 추가\n",
    "frm = tk.Frame(win, bg=\"white\", width=720, height=480) # 프레임 너비, 높이 설정\n",
    "frm.grid(row=1, column=0) # 프레임 행, 열 배치\n",
    "\n",
    "# 라벨1 추가\n",
    "lbl1 = tk.Label(frm, text=\"OpenCV VideoCapture 객체\")\n",
    "lbl1.grid()\n",
    "\n",
    "os.chdir('D:/GEODATA') # 현재 작업 디렉토리 변경\n",
    "cap = cv.VideoCapture('otter.avi') # VideoCapture 객체 정의\n",
    "\n",
    "def video_play():\n",
    "    ret, frame = cap.read() # 프레임이 올바르게 읽히면 ret은 True\n",
    "    if not ret:\n",
    "        cap.release() # 작업 완료 후 해제\n",
    "        return\n",
    "    frame = cv.cvtColor(frame, cv.COLOR_BGR2GRAY)\n",
    "    img = Image.fromarray(frame) # Image 객체로 변환\n",
    "    imgtk = ImageTk.PhotoImage(image=img) # ImageTk 객체로 변환\n",
    "    # OpenCV 동영상\n",
    "    lbl1.imgtk = imgtk\n",
    "    lbl1.configure(image=imgtk)\n",
    "    lbl1.after(10, video_play)\n",
    "\n",
    "video_play()\n",
    "win.mainloop() #GUI 시작"
   ]
  }
 ],
 "metadata": {
  "kernelspec": {
   "display_name": "Python 3",
   "language": "python",
   "name": "python3"
  },
  "language_info": {
   "codemirror_mode": {
    "name": "ipython",
    "version": 3
   },
   "file_extension": ".py",
   "mimetype": "text/x-python",
   "name": "python",
   "nbconvert_exporter": "python",
   "pygments_lexer": "ipython3",
   "version": "3.5.4"
  }
 },
 "nbformat": 4,
 "nbformat_minor": 2
}
