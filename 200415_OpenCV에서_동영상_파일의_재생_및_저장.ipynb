{
 "cells": [
  {
   "cell_type": "code",
   "execution_count": 1,
   "metadata": {},
   "outputs": [],
   "source": [
    "# 모듈 호출\n",
    "import numpy as np\n",
    "import cv2 as cv\n",
    "import os"
   ]
  },
  {
   "cell_type": "code",
   "execution_count": 2,
   "metadata": {},
   "outputs": [
    {
     "data": {
      "text/plain": [
       "'C:\\\\Users\\\\bhyu'"
      ]
     },
     "execution_count": 2,
     "metadata": {},
     "output_type": "execute_result"
    }
   ],
   "source": [
    "os.getcwd() # 현재 작업 디렉토리 확인"
   ]
  },
  {
   "cell_type": "code",
   "execution_count": 3,
   "metadata": {},
   "outputs": [
    {
     "data": {
      "text/plain": [
       "'D:\\\\GEODATA'"
      ]
     },
     "execution_count": 3,
     "metadata": {},
     "output_type": "execute_result"
    }
   ],
   "source": [
    "os.chdir('D:/GEODATA') # 현재 작업 디렉토리 변경\n",
    "os.getcwd()"
   ]
  },
  {
   "cell_type": "code",
   "execution_count": 4,
   "metadata": {},
   "outputs": [],
   "source": [
    "# VideoCapture 객체 정의\n",
    "cap = cv.VideoCapture('otter.avi')"
   ]
  },
  {
   "cell_type": "code",
   "execution_count": 5,
   "metadata": {},
   "outputs": [
    {
     "name": "stdout",
     "output_type": "stream",
     "text": [
      "프레임 너비: 720, 프레임 높이: 400, 초당 프레임 수: 24\n"
     ]
    }
   ],
   "source": [
    "# 프레임 너비/높이, 초당 프레임 수 확인\n",
    "width = cap.get(cv.CAP_PROP_FRAME_WIDTH) # 또는 cap.get(3)\n",
    "height = cap.get(cv.CAP_PROP_FRAME_HEIGHT) # 또는 cap.get(4)\n",
    "fps = cap.get(cv.CAP_PROP_FPS) # 또는 cap.get(5)\n",
    "print('프레임 너비: %d, 프레임 높이: %d, 초당 프레임 수: %d' %(width, height, fps))"
   ]
  },
  {
   "cell_type": "code",
   "execution_count": 6,
   "metadata": {},
   "outputs": [
    {
     "name": "stdout",
     "output_type": "stream",
     "text": [
      "프레임을 수신할 수 없습니다(스트림 끝?). 종료 중 ...\n"
     ]
    }
   ],
   "source": [
    "while cap.isOpened(): # cap 정상동작 확인\n",
    "    ret, frame = cap.read()\n",
    "    # 프레임이 올바르게 읽히면 ret은 True\n",
    "    if not ret:\n",
    "        print(\"프레임을 수신할 수 없습니다(스트림 끝?). 종료 중 ...\")\n",
    "        break\n",
    "    frame = cv.cvtColor(frame, cv.COLOR_BGR2GRAY)\n",
    "    cv.imshow('Otter', frame)\n",
    "    if cv.waitKey(42) == ord('q'):\n",
    "        break\n",
    "# 작업 완료 후 해제\n",
    "cap.release()\n",
    "cv.destroyAllWindows()"
   ]
  },
  {
   "cell_type": "code",
   "execution_count": 7,
   "metadata": {},
   "outputs": [],
   "source": [
    "cap = cv.VideoCapture('otter.avi') # VideoCapture 객체 정의\n",
    "fourcc = cv.VideoWriter_fourcc(*'DIVX') # 코덱 정의\n",
    "out = cv.VideoWriter('otter_out.avi', fourcc, fps, (int(width), int(height))) # VideoWriter 객체 정의"
   ]
  },
  {
   "cell_type": "code",
   "execution_count": 8,
   "metadata": {},
   "outputs": [
    {
     "name": "stdout",
     "output_type": "stream",
     "text": [
      "프레임을 수신할 수 없습니다(스트림 끝?). 종료 중 ...\n"
     ]
    }
   ],
   "source": [
    "while cap.isOpened(): # cap 정상동작 확인\n",
    "    ret, frame = cap.read()\n",
    "    # 프레임이 올바르게 읽히면 ret은 True\n",
    "    if not ret:\n",
    "        print(\"프레임을 수신할 수 없습니다(스트림 끝?). 종료 중 ...\")\n",
    "        break\n",
    "    frame = cv.flip(frame, 1) # 프레임 반전. 1: 좌우 반전, 0: 상하 반전\n",
    "    # 반전 프레임 저장\n",
    "    out.write(frame)\n",
    "    cv.imshow('Otter', frame)\n",
    "    if cv.waitKey(42) == ord('q'):\n",
    "        break\n",
    "# 작업 완료 후 해제\n",
    "cap.release()\n",
    "out.release()\n",
    "cv.destroyAllWindows()"
   ]
  },
  {
   "cell_type": "code",
   "execution_count": null,
   "metadata": {},
   "outputs": [],
   "source": []
  }
 ],
 "metadata": {
  "kernelspec": {
   "display_name": "Python 3",
   "language": "python",
   "name": "python3"
  },
  "language_info": {
   "codemirror_mode": {
    "name": "ipython",
    "version": 3
   },
   "file_extension": ".py",
   "mimetype": "text/x-python",
   "name": "python",
   "nbconvert_exporter": "python",
   "pygments_lexer": "ipython3",
   "version": "3.5.4"
  }
 },
 "nbformat": 4,
 "nbformat_minor": 2
}
